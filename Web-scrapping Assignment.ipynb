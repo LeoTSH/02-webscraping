{
 "cells": [
  {
   "cell_type": "code",
   "execution_count": 1,
   "metadata": {},
   "outputs": [],
   "source": [
    "import requests\n",
    "from bs4 import BeautifulSoup\n",
    "\n",
    "s = requests.Session()\n",
    "r = s.get('http://www.oreilly.com/programming/free/')\n",
    "soup = BeautifulSoup(r.text, 'html.parser')"
   ]
  },
  {
   "cell_type": "code",
   "execution_count": 2,
   "metadata": {
    "scrolled": true
   },
   "outputs": [
    {
     "name": "stdout",
     "output_type": "stream",
     "text": [
      "\n",
      "\n",
      "<h3 class=\"section-title\">Software Engineering</h3>\n",
      "\n",
      "\n",
      " Software Engineering/Java \n",
      "\n",
      "\n",
      "<h3 class=\"section-subtitle\">Java</h3>\n",
      "\n",
      "\n",
      "<a data-container=\"body\" data-content=\"Adopting microservices requires much more than changes to your technology. Author Christian Posta—a Principal Middleware Specialist/Architect at Red Hat—also examines the organizational agility necessary to deliver these services. This concise book shows you how rapid feedback cycles, autonomous teams, and shared purpose are key to making microservices work.\" data-placement=\"auto left\" data-toggle=\"popover\" data-trigger=\"hover\" href=\"http://www.oreilly.com/programming/free/microservices-for-java-developers.csp\" title=\"Microservices for Java Developers: A Hands-On Introduction to Frameworks and Containers\">\n",
      "<img alt=\"Microservices for Java Developers\" src=\"http://covers.oreillystatic.com/images/0636920052234/cat.gif\">\n",
      "</img></a>\n",
      "\n",
      "\n",
      "<a data-container=\"body\" data-content=\"With the ascent of DevOps, microservices, containers, and cloud-based development platforms, the gap between state-of-the-art solutions and the technology that enterprises typically support has greatly increased. But as Markus Eisele explains in this O’Reilly ebook, some enterprises are now looking to bridge that gap by building microservice-based architectures on top of Java EE.\" data-placement=\"auto left\" data-toggle=\"popover\" data-trigger=\"hover\" href=\"http://www.oreilly.com/programming/free/modern-java-ee-design-patterns.csp\" title=\"Modern Java EE Design Patterns\">\n",
      "<img alt=\"Modern Java EE Design Patterns\" src=\"http://covers.oreillystatic.com/images/0636920045502/cat.gif\"/>\n",
      "</a>\n",
      "\n",
      "\n",
      "<a data-container=\"body\" data-content=\"The schism between the functional and object-oriented programmers is really a false binary. Yes, the first group argues that FP is superior for a multicore world, while the second insists that OOP is better at matching technical solutions to business problems. However, as this O’Reilly ebook explains, this is not an either-or proposition.\" data-placement=\"auto left\" data-toggle=\"popover\" data-trigger=\"hover\" href=\"http://www.oreilly.com/programming/free/object-oriented-vs-functional-programming.csp?intcmp=il-prog-free-product-lgen_oo_v_fp\" title=\"Object-Oriented vs. Functional Programming\">\n",
      "<img alt=\"Object-Oriented vs. Functional Programming\" src=\"http://covers.oreillystatic.com/images/0636920043010/cat.gif\"/>\n",
      "</a>\n",
      "\n",
      "\n",
      "<a data-container=\"body\" data-content=\"The road from Java’s first public alpha of 1.0 to today has been long—and full of technical advances, innovative solutions, and interesting complications. Along the way, Java has flourished and is now one of the world’s most important and widely-used programming environments. Benjamin Evans, the Java editor for InfoQ and author of Java in a Nutshell, 6th edition, takes us on a journey through time.\" data-placement=\"auto left\" data-toggle=\"popover\" data-trigger=\"hover\" href=\"http://www.oreilly.com/programming/free/java-the-legend.csp?intcmp=il-prog-free-product-lgen_java_legend\" title=\"Java: The Legend\">\n",
      "<img alt=\"Java: The Legend\" src=\"http://covers.oreillystatic.com/images/0636920043478/cat.gif\"/>\n",
      "</a>\n",
      "\n",
      "\n"
     ]
    }
   ],
   "source": [
    "website_data = soup.find('div', class_ = 'product-row cover-showcase')\n",
    "for x in website_data:\n",
    "    print (x)"
   ]
  },
  {
   "cell_type": "code",
   "execution_count": 22,
   "metadata": {},
   "outputs": [
    {
     "data": {
      "text/plain": [
       "<a data-container=\"body\" data-content=\"Adopting microservices requires much more than changes to your technology. Author Christian Posta—a Principal Middleware Specialist/Architect at Red Hat—also examines the organizational agility necessary to deliver these services. This concise book shows you how rapid feedback cycles, autonomous teams, and shared purpose are key to making microservices work.\" data-placement=\"auto left\" data-toggle=\"popover\" data-trigger=\"hover\" href=\"http://www.oreilly.com/programming/free/microservices-for-java-developers.csp\" title=\"Microservices for Java Developers: A Hands-On Introduction to Frameworks and Containers\">\n",
       "<img alt=\"Microservices for Java Developers\" src=\"http://covers.oreillystatic.com/images/0636920052234/cat.gif\">\n",
       "</img></a>"
      ]
     },
     "execution_count": 22,
     "metadata": {},
     "output_type": "execute_result"
    }
   ],
   "source": [
    "website_data.findAll('a')[0]"
   ]
  }
 ],
 "metadata": {
  "kernelspec": {
   "display_name": "Python 3",
   "language": "python",
   "name": "python3"
  },
  "language_info": {
   "codemirror_mode": {
    "name": "ipython",
    "version": 3
   },
   "file_extension": ".py",
   "mimetype": "text/x-python",
   "name": "python",
   "nbconvert_exporter": "python",
   "pygments_lexer": "ipython3",
   "version": "3.6.3"
  }
 },
 "nbformat": 4,
 "nbformat_minor": 2
}
